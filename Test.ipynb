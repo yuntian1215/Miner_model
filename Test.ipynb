{
 "cells": [
  {
   "attachments": {},
   "cell_type": "markdown",
   "metadata": {},
   "source": [
    "## 恶意挖矿脚本测试文档\n",
    "\n",
    "### 一、测试环境\n",
    "Windows11_x64，带有Chrome浏览器和需要的pip库，位于E:\\\\Sem_8\\\\Soft_Development\\\\Tesseract_OCR\\\\tesseract.exe目录下的OCR引擎。\n",
    "\n",
    "### 二、测试用例\n",
    "\n",
    "#### 模块功能函数测试用例\n",
    "基于这部分的测试主要是通过分类选择测试\n",
    "\n",
    "![picture 1](images/2a7f2836e70fd5e4af7336eae8dacef8cb057e293abe01260f1c2d41982d6257.png)  \n",
    "\n",
    "首先是URL判断函数：(Successfully passed)"
   ]
  },
  {
   "cell_type": "code",
   "execution_count": null,
   "metadata": {},
   "outputs": [],
   "source": [
    "def calculate_url_length(url):\n",
    "    # 计算URL的长度\n",
    "    return len(url)\n",
    "\n",
    "print(calculate_url_length(\"\"))\n",
    "print(calculate_url_length(\"https://www.baidu.com\")) #expected 21\n",
    "\n",
    "def judge_url_isornothttps(url):\n",
    "    #判断URL是否是HTTPS协议\n",
    "    if url.startswith('https'):\n",
    "        return 1\n",
    "    return 0\n",
    "\n",
    "print(judge_url_isornothttps(\"https://www.baidu.com\")) #expected 1\n",
    "print(judge_url_isornothttps(\"http://apac.com.tw/\")) #expected 0"
   ]
  },
  {
   "attachments": {},
   "cell_type": "markdown",
   "metadata": {},
   "source": [
    "其次是动态爬虫函数：(Successfully passed)"
   ]
  },
  {
   "cell_type": "code",
   "execution_count": null,
   "metadata": {},
   "outputs": [],
   "source": [
    "from selenium import webdriver\n",
    "from selenium.webdriver.chrome.options import Options\n",
    "\n",
    "def GetHtml(url):\n",
    "    chrome_options = Options()\n",
    "    # chrome_options.add_argument(\"--headless\")  # 无界面模式，可以在后台运行(测试开启)\n",
    "    chrome_options.add_argument('--ignore-certificate-errors')\n",
    "    \n",
    "    # 创建Chrome浏览器实例\n",
    "    driver = webdriver.Chrome(options=chrome_options)\n",
    "    driver.set_page_load_timeout(10)\n",
    "\n",
    "    # 创建Chrome浏览器实例\n",
    "    try:   \n",
    "        driver.get(url)\n",
    "        html = driver.page_source\n",
    "    except:\n",
    "        html = \" \"\n",
    "        print(\"timeout\", url)\n",
    "    finally:\n",
    "        driver.quit()\n",
    "        print(\"success\")\n",
    "        return html\n",
    "    \n",
    "html = GetHtml(\"https://www.google.com/?gws_rd=ssl\")\n",
    "print(html) #expected success and the right page source\n",
    "\n",
    "html = GetHtml(\"http://apac.com.tw/\")\n",
    "print(html) #expected success and empty"
   ]
  },
  {
   "attachments": {},
   "cell_type": "markdown",
   "metadata": {},
   "source": [
    "接着是特征分析中的关键词提取：(Successfully passed)"
   ]
  },
  {
   "cell_type": "code",
   "execution_count": 2,
   "metadata": {},
   "outputs": [
    {
     "name": "stdout",
     "output_type": "stream",
     "text": [
      "['cryptonight.wasm', 'deepMiner.js', 'deepMiner.min.js', 'proxy=wss', 'proxy=ws', 'coinhive.min.js', 'monero-miner.js', 'wasmminer.wasm', 'wasmminer.js', 'cn-asmjs.min.js', 'plugins/aj-cryptominer', 'plugins/ajcryptominer', 'plugins/wp-monero-miner-pro', 'lib/crlt.js', 'pool/direct.js', 'n.2.1.js', 'gridcash.js', 'worker-asmjs.min.js', 'perfekt=wss', 'vbb/me0w.js', 'webmr.js', 'webxmr.js', 'miner.js', 'webmr4.js', 'static/js/tpb.js', 'lib/crypta.js', 'bitrix/js/main/core/core_tasker.js', 'bitrix/js/main/core/core_loader.js', 'load.jsecoin.com', 'coin-hive.com/lib', 'coin-hive.com/proxy', 'coin-hive.com/captcha', 'edgeno.de', 'reasedoper.pw', 'mataharirama.xyz', 'listat.biz', 'lmodr.biz', 'jyhfuqoh.info', 'coinhive.com/lib', 'coinhive.com/proxy', 'coinhive.com/captcha', 'minemytraffic.com/lib', 'crypto-loot.com/lib', 'coin-have.com/c', 'ppoi.org/lib', 'coinerra.com/lib', 'minero.pw/miner.min.js', 'coinblind.com/lib', 'webmine.cz/miner', 'inwemo.com/inwemo.min.js', 'cloudcoins.co/javascript', 'coinhive-manager.com/ch-manager.js', 'rocks.io', 'rocks.io/assets/rocks.min.js', 'papoto.com/lib', 'coinlab.biz/lib', 'ad-miner.com/lib', 'd3iz6lralvg77g.cloudfront.net', 'hatevery.info', 'minr.pw/inject', 'd-ns.ga', 'ron.si', 'kjli.fi', 'pema.cl', 'nullrefexcep.com', 'hk.rs', 'cieh.mx', '185.14.28.10', '185.209.23.219', 'rove.cl', 'coinimp.com/scripts', 'statistic.date', 'static-cnt.bid', 'hallaert.online', 'g-content.bid', 'harvest.surge.sh/h.js', 'cryptonoter.com/processor.js', 'monerise.com/core', 'sparechange.io/static/sparechange.js', 'clod.pw', 'jquery-uim.download', 'livelyoffers.club', 'browsermine.com', 'lightminer.co', 'xmrm.pw', 'bmnr.pw', '52.80.10.9', 'webassembly.stream', 'cryptoloot.pro/lib', 'kickass.cd/power2', 'monerominer.rocks/miner', 'monerominer.rocks/scripts', 'webmine.pro/lib', 'freecontent.bid', 'cookiescript.info/libs', 'monkeyminer.net/deepMiner.js', 'cpu2cash.link', 'coinpirate.cf', 'gridcash.net/api', 'ogrid.org', 'nathetsof.com', 'insdrbot.com', 'l33tsite.info', 'myadstats.com', 'yuyyio.com', 'ajplugins.com', 'analytics.blue', 'cfcdist.gdn', 'cfceu.duckdns.org', 'ledhenone.com', 'crypto-webminer.com', 'cpufan.club', 'cryptobara.com', 'webminepool.com/lib', 'webminepool.com/captcha', 'minero.cc/lib', 'coinrail.io/lib', 'marcycoin.org/captcha', 'coin-service.com', 'gustaver.ddns.net', 'cryptown.netlify.com', 'msg-2.me', 'whathyx.com', 'ewtuyytdf45.com', 'mutuza.win', 'vzhjnorkudcxbiy.com', 'hashing.win', 'cfcnet.gdn', 'cfcs1.duckdns.org', 'greenindex.dynamic-dns.net', 'freecontent.stream', 'worker.salon.com/jobs.js', 'cfcnet.top', 'graftpool.ovh', 'refresh-js.bitbucket.io', 'fresh-js.bitbucket.io', 'staticsfs.host', 'cdn-code.host', 'bmst.pw', 'digxmr.com', 'andlache.com', 'berateveng.ru', 'bewaslac.com', 'biberukalap.com', 'bowithow.com', 'butcalve.com', 'didnkinrab.com', 'evengparme.com', 'fatisin.ru', 'gridiogrid.com', 'hatcalter.com', 'hegrinhar.com', 'hjnbvg.ru', 'ingorob.com', 'kedtise.com', 'ledinund.com', 'losital.ru', 'mebablo.com', 'moonsade.com', 'nebabrop.com', 'ningtoldrop.ru', 'norespar.ru', 'pearno.com', 'refunevent.com', 'rencohep.com', 'renhertfo.com', 'retadint.com', 'rineventrec.com', 'rintindown.com', 'rintinwa.com', 'rowherthat.ru', 'terethat.ru', 'thatresha.com', 'thathislitt.ru', 'toftofcal.com', 'veritrol.com', 'verresof.com', 'wildianing.ru', 'witthethim.com', 'wronpeci.com', 'wqgkainysj.ru', 'kalipasindra.online', 'never.ovh', 'nexttime.ovh', 'webwidgetz.duckdns.org', 'cfcd.duckdns.org', 'tulip18.com', 'cfcdist.loan', 'traffic-optical-service.info', 'silimbompom.com', 'bablace.com', 'unrummaged.com', 'realnetwrk.com', 'tgtvbngp.ru', 'okexysylgzo.ru', 'etzbnfuigipwvs.ru', 'dzizsih.ru', 'nddmcconmqsy.ru', 'altavista.ovh', 'synconnector.com', '0x1f4b0.com', '1q2w3.website', 'cdn.nablabee.com', 'miner.nablabee.com', 'oinkinns.tk', 'adrenali.gq', 'cdn.adless.io', 'stati.bid', 'minescripts.info', 'aalbbh84.info', 'bhzejltg.info', 'pzoifaum.info', 'ajcryptominer.com', 'datasecu.download', 'jquery-cdn.download', 'traffic-service.info', 'hhb123.tk', 'mepirtedic.com', 'appelamule.com', 'ulnawoyyzbljc.ru', 'may-js.github.io', 'traffic-info-service.info', 'traffic-tech-service.info', 'traffic-gate-service.info', 'cryptaloot.pro', 'averoconnector.com', 'scaleway.ovh', 'bauersagtnein.myeffect.net', 'carry.myeffect.net', 'red-js.github.io', 'jqcdn.download', 'freecontent.date', 'ablen02.tk', 'ablen07.tk', 'ablen10.tk', 'ablen04.tk', 'ablen09.tk', 'ablen01.tk', 'ablen11.tk', 'ablen06.tk', 'ablen12.tk', 'ablen03.tk', 'ablen08.tk', 'ablen05.tk', 'mxcdn1.now.sh', 'mxcdn2.now.sh', 'npcdn1.now.sh', 'sxcdn02.now.sh', 'sxcdn3.now.sh', 'sxcdn4.now.sh', 'sxcdn6.now.sh', 'allfontshere.press', '31.187.64.216', 'freecontent.loan', 'freecontent.racing', 'freecontent.win', 'encoding.ovh', '2giga.download', 'eth-pocket.de', 'thelifeisbinary.netlify.com', 'thelifeisbinary.ddns.net', 'blue-js.github.io', 'irrrymucwxjl.ru', 'nerohut.com/srv', 'gnrdomimplementation.com', 'ltstyov.ru', 'pcejuyhjucmkiny.ru', 'sickrage.ca/js/m.js', 'ksimdw.ru', 'wrxgandsfcz.ru', 'jwduahujge.ru', 'ogondkskyahxa.ru', 'zavzlen.ru', 'vzzexalcirfgrf.ru', 'black-js.github.io', 'amhixwqagiz.ru', 'wmemsnhgldd.ru', 'hlpidkr.ru', 'hrfziiddxa.ru', 'ihdvilappuxpgiv.ru', 'ivuovhsn.ru', 'ixvenhgwukn.ru', 'jqxrrygqnagn.ru', 'oxwwoeukjispema.ru', 'svivqrhrh.ru', 'vpzccwpyilvoyg.ru', 'wmwmwwfmkvucbln.ru', 'ziykrgc.ru', 'mariuspetrescu.gq', 'hide.ovh', 'aster18cdn.nl', 'freshrefresher.com', 'povw1deo.com/player7/jwpsrve.js', 'one-jj.github.io', 'two-jj.github.io', 'three-jj.github.io', 'uoldid.ru', 'herphemiste.com', 'streamdream.ws/a1d7311f2a', 'play.video.estream.nu/estream.js', 'video.streaming.estream.to/player.js', 'fili.cc/assets/libs/mank/webmr.js', 'minercry.pt', 'streamplay.me/player1/jwplayer.js', 'rmawm7mw.top', 'basepush.com', 'arizona-miner.tk', 'eth-pocket.eu', 'eth-pocket.com', 'japveny.ru', 'dynya-may.github.io', 'imhvlhaelvvbrq.ru', 'vuuwd.com', 'ethtrader.de', 'coinwebmining.com', 'cdn-jquery.host', 'creadordedinero.com', 'xvideosharing.site', 'bezoglasa.online', 'my-rigs.com', 'bestcoinsignals.com', 'xmg.cool', 'xmr.cool', 'pazl1.ru', 'snahome.com', 'teramill.com', 'nerdorium.org', 'eucsoft.com', 'munero.me', 'istlandoll.com', '2giga.link/toyota', 'ctlrnwbv.ru', 'ermaseuc.ru', 'kdmkauchahynhrs.ru', 'sptlkiyjsglayc.ru', 'zzqhsrg.ru', 'zivbxion.ru', 'bmnadutub.ru', 'yoaabgvkm.ru', 'eflbruwqt.ru', 'wnmyerzbjhu.ru', 'voumxy.ru', 'etlrsq.ru', 'udqgbokvzbnqkf.ru', 'hbeuwgqt.ru', 'ybjfsqcevow.ru', 'wkkjfcgjofbix.ru', 'lmeeulcfttqv.ru', 'dxmhkisurxxxhm.ru', 'afdjljiyagf.ru', 'igdxzzeglrlqm.ru', 'xssrmimmnq.ru', 'kxrcjhogag.ru', 'fdtpyqqsnzxvt.ru', 'jhfdmiwcgnty.ru', 'pertosj.ru', 'vuryua.ru', 'jwwhsqz.ru', 'ftzivuesohvebj.ru', 'qlzwfzfatjth.ru', 'qpmsybxqvlje.ru', 'site.flashx.cc', 'jqwww.download', 'jqrcdn.download', 'proj2018.xyz', 'jqassets.download', 'dataservices.download', 'jqr-cdn.download', 'jquerrycdn.download', 'pebx.pl/connect.js', 'ruvuryua.ru', 'aymcsx.ru', 'bmcm.pw', 'bmcm.ml', 'cloudflane.com', 'directprimal.com', 'clgserv.pro', 'videoplayer2.xyz', 'upgraderservices.cf', 'willacrit.com', 'uzljra.ru', 'fljgsht.ru', 'prsrjdr.ru', 'cdjchpojgifwc.ru', 'perrege.ru', 'pampopholf.com', 'videos.vidto.me', 'flowplayer.space', 'on.animeteatr.ru', 'play.vidzi.tv', 'play.estream.xyz', 'js.vidoza.net', 'belicimo.pw', 's01.vidtodo.pro', 'tainiesonline.pw', 'mix.kinostuff.com', 'cc.gofile.io', 'proxy.multikonline.ru', 'play.estream.to', 'scripts.mrpiracy.xyz', 'yololike.space', 'd.greece-search.com', 'xmr.omine.org/assets', 'tainiesonline.stream', 'gay-hotvideo.net', 'yourloganalytics.com', 'mytestminer.xyz', 's01.vidtod.me', 's02.vidtod.me', 'bajarlo.net', 'dexim.space', 'intellecthosting.net', 'lumanajaska.ml', 'bjorksta.men', 'hemnes.win', 'gitgrub.pro', 'verifier.live', 'freecontent.faith', 'freecontent.party', 'freecontent.science', 'freecontent.trade', 'hostingcloud.accountant', 'hostingcloud.bid', 'hostingcloud.date', 'hostingcloud.download', 'hostingcloud.faith', 'hostingcloud.loan', 'jshosting.bid', 'jshosting.date', 'jshosting.download', 'jshosting.loan', 'jshosting.party', 'jshosting.racing', 'jshosting.review', 'jshosting.stream', 'jshosting.trade', 'jshosting.win', 'stati.in', 'cuev.in', 'play.vb.wearesaudis.net', 'xgefmxd.ru', 'minexmr.stream/webmr.js', 'mollnia.com/js', 'thersprens.com', 'gramombird.com', 'sentemanactri.com', 'ugmfvqsu.ru', 'auiehechoulh.ru', 'vtsgaqnfvzcyu.ru', 'rctfgrazkha.ru', 'augvtjtnsfnxg.ru', 'jlzebszkilcz.ru', 'jqmrqgaunex.ru', 'static.207.35.76.144.clients.your-server.de', 'lambdafoobar.de', 'cashbeet.com', 'serv1swork.com', 'g1thub.com', 'f1tbit.com', 'str1kee.com', 'hostingcloud.science', 'reauthenticator.com', 'jssdk.beetv.net', 'swiftmining.win/static/js/base.js', 'swiftmining.win/embed', 'swiftmining.win/go', 'moonify.io/moonify.min.js', 'zymerget.bid', 'alflying.bid', 'zymerget.faith', 'flightsy.bid', 'alflying.date', 'zymerget.party', 'flightsy.date', 'flightzy.date', 'flightzy.bid', 'zymerget.date', 'flightzy.win', 'flightsy.win', 'alflying.win', 'gettate.faith', 'zymerget.stream', 'zymerget.win', 'gettate.racing', 'gettate.date', 'vidoza.net/app.js', 'feesocrald.com', 'soodatmish.com', 'nabaza.com', 'drupalupdates.tk', 'truemine.org/api', 'nextbdom.ru', 'verifypow.com', 'srcip.com', 'minerad.com', 'coin-cube.com', 'service4refresh.info', 'mi-de-ner-nis3.info', 'de-mi-nis-ner.info', 'de-mi-nis-ner2.info', 'de-nis-ner-mi-5.info', 'de-ner-mi-nis4.info', 'money-maker-script.info', 'money-maker-default.info', 'olgakurenkova34.github.io', 'drozdovvalerij0.github.io', 'bitcoin-pay.eu', 'ethereum-pocket.eu', 'myregeneaf.com', 'nexioniect.com', 'ner-de-mi-nis-6.info', '35.239.57.233', '35.194.26.233', 'povwideo.cc/player7/jwpsrva.js', '1q2w3.life', 'livestatsnet.services', 'statdynamic.com', 'ethereum-pocket.de', 'hostingcloud.science', 'hostingcloud.accountant', 'hostingcloud.bid', 'hostingcloud.date', 'hostingcloud.download', 'hostingcloud.faith', 'hostingcloud.loan', 'jshosting.bid', 'jshosting.date', 'jshosting.download', 'jshosting.loan', 'jshosting.party', 'jshosting.racing', 'jshosting.review', 'jshosting.stream', 'jshosting.trade', 'jshosting.win', 'kireevairina959.github.io', 'olecintri.com', 'onvid.club', 'kireevairina959.bitbucket.io', 'd3al52d8cojds7.cloudfront.net', 'jscoinminer.com/js', 'tercabilis.info', 'hostingcloud.racing', 'gxbrowser.net', 'new CoinHive.Anonymous', 'new CryptoLoot.Anonymous', 'lib/miner.min.js', 'new deep.Miner.Anonymous', 'new CRLT.Anonymous', 'new CoinImp.Anonymous', 'new CoinPirate.Anonymous', 'ppoi.org/lib/projectpoi.min.js', 'new ProjectPoi.Anonymous']\n"
     ]
    }
   ],
   "source": [
    "def KeyWordExtracting(): \n",
    "    # 将开源过滤文本下载到测试文档的同一位置\n",
    "    file_path = \"filters.txt\"\n",
    "\n",
    "    with open(file_path, \"r\") as file:\n",
    "        text = file.read()\n",
    "\n",
    "    text = text.splitlines()\n",
    "\n",
    "    matching_keywords = [] \n",
    "\n",
    "    for line in text:\n",
    "        filtered_letters = list(filter(str.isalnum, line))\n",
    "        first_letter = filtered_letters[0]\n",
    "        last_letter = filtered_letters[len(filtered_letters) - 1]\n",
    "        first_letter_index = line.find(first_letter) if first_letter else -1\n",
    "        last_letter_index = line.rfind(last_letter) if first_letter else -1\n",
    "\n",
    "        keyword = line[first_letter_index : last_letter_index + 1]\n",
    "        matching_keywords.append(keyword)  # 将关键词添加到匹配列表中\n",
    "\n",
    "    extend_keywords = [\"new CoinHive.Anonymous\", \"new CryptoLoot.Anonymous\", \"lib/miner.min.js\", \"new deep.Miner.Anonymous\",\n",
    "                        \"new CRLT.Anonymous\", \"new CoinImp.Anonymous\", \"new CoinPirate.Anonymous\", \"ppoi.org/lib/projectpoi.min.js\", \"new ProjectPoi.Anonymous\"]\n",
    "        \n",
    "    matching_keywords.extend(extend_keywords)\n",
    "\n",
    "    return matching_keywords\n",
    "\n",
    "print(KeyWordExtracting()) #expected the keywords be the same with the filter.txt"
   ]
  },
  {
   "attachments": {},
   "cell_type": "markdown",
   "metadata": {},
   "source": [
    "接着就是前面两个模块结合，并通过ctrl-f判断链接提取是否正确："
   ]
  },
  {
   "cell_type": "code",
   "execution_count": 5,
   "metadata": {},
   "outputs": [
    {
     "name": "stdout",
     "output_type": "stream",
     "text": [
      "success\n",
      "(0, 0, 0, 0)\n",
      "success\n",
      "(2, 0, 0, 0)\n"
     ]
    }
   ],
   "source": [
    "import re\n",
    "def AnalysisHtml(url):\n",
    "    html = GetHtml(url)\n",
    "    keywords = KeyWordExtracting()\n",
    "\n",
    "    pattern = r\"\\b(?:{})\\b\".format(\"|\".join(map(re.escape, keywords)))\n",
    "    html_contains_keywords = re.findall(pattern, html, re.IGNORECASE)\n",
    "\n",
    "    if html_contains_keywords:\n",
    "        keywordappeartimes = len(html_contains_keywords)\n",
    "    else:\n",
    "        keywordappeartimes = 0\n",
    "    \n",
    "    cryptfuncs = [\"Cryptonight\", \"SHA256\", \"hash\", \"wasmwrapper\", \"Web Assembly\", \"scrypt\"]\n",
    "\n",
    "    pattern = r\"\\b(?:{})\\b\".format(\"|\".join(map(re.escape, cryptfuncs)))\n",
    "    html_contains_cryptfuncs = re.findall(pattern, html, re.IGNORECASE)\n",
    "\n",
    "    if html_contains_cryptfuncs:\n",
    "        cryptfunctionappeartimes = len(html_contains_cryptfuncs)\n",
    "    else:\n",
    "        cryptfunctionappeartimes = 0\n",
    "\n",
    "    dynamicfuncs = [\"setTimeout\", \"setInterval\"]\n",
    "\n",
    "    pattern = r\"\\b(?:{})\\b\".format(\"|\".join(map(re.escape, dynamicfuncs)))\n",
    "    html_contains_dynamicfuncs = re.findall(pattern, html, re.IGNORECASE)\n",
    "\n",
    "    if html_contains_dynamicfuncs:\n",
    "        dynamicfunctionappeartimes = len(html_contains_cryptfuncs)\n",
    "    else:\n",
    "        dynamicfunctionappeartimes = 0\n",
    "\n",
    "    cpulimits = [\"throttle\", \"throttle:0.9\"]\n",
    "    pattern = r\"\\b(?:{})\\b\".format(\"|\".join(map(re.escape, cpulimits)))\n",
    "    html_contains_cpulimits = re.findall(pattern, html, re.IGNORECASE)\n",
    "\n",
    "    if html_contains_cpulimits:\n",
    "        ifcpulimit = 1\n",
    "    else:\n",
    "        ifcpulimit = 0\n",
    "\n",
    "    return keywordappeartimes, cryptfunctionappeartimes, dynamicfunctionappeartimes, ifcpulimit\n",
    "\n",
    "print(AnalysisHtml(\"https://www.wikipedia.org/\")) #expected success 0000\n",
    "print(AnalysisHtml(\"http://digiflake.com/\")) #expected success 2000"
   ]
  },
  {
   "attachments": {},
   "cell_type": "markdown",
   "metadata": {},
   "source": [
    "爬虫登录publicwww.com并爬取相应URL，并联动上述模块一并检测。（Successfully passed）"
   ]
  },
  {
   "cell_type": "code",
   "execution_count": 8,
   "metadata": {},
   "outputs": [
    {
     "name": "stdout",
     "output_type": "stream",
     "text": [
      "https://publicwww.com/websites/%22cryptonight.wasm%22\n",
      "https://publicwww.com/websites/%22deepMiner.js%22\n",
      "https://publicwww.com/websites/%22deepMiner.min.js%22\n",
      "https://publicwww.com/websites/%22proxy%3Dwss%22\n",
      "https://publicwww.com/websites/%22proxy%3Dws%22\n",
      "https://publicwww.com/websites/%22coinhive.min.js%22\n",
      "http://apac.com.tw/\n",
      "http://thepiratebay.cd/\n",
      "https://flirt.zone/\n",
      "https://my-sexy-place.com/\n",
      "https://threesixty360.wordpress.com/\n",
      "https://fun-chat.com/\n",
      "https://sexymaus.com/\n",
      "https://bdsm-chat.info/\n",
      "http://proxy.ws/\n",
      "https://coinrotation.com/\n",
      "https://coins4days.com/\n",
      "http://tublogdearquitectura.com/\n",
      "http://patrickdamiaens.be/\n",
      "http://www.archiepanjabi.com/\n",
      "http://youssef-rabbaoui.de/\n",
      "http://fonts4web.ru/\n",
      "http://emoticonfun.org/\n",
      "http://howtolamp.com/\n",
      "https://peeseaw.blogspot.com/\n",
      "http://psystems.gr/\n",
      "http://senior-formation.com/\n",
      "https://slovenskyviral.com/\n",
      "http://findgiveaways.blogspot.com/\n",
      "http://mobi-skidka.com/\n",
      "['http://apac.com.tw/', 'http://thepiratebay.cd/', 'https://flirt.zone/', 'https://my-sexy-place.com/', 'https://threesixty360.wordpress.com/', 'https://fun-chat.com/', 'https://sexymaus.com/', 'https://bdsm-chat.info/', 'http://proxy.ws/', 'https://coinrotation.com/', 'https://coins4days.com/', 'http://tublogdearquitectura.com/', 'http://patrickdamiaens.be/', 'http://www.archiepanjabi.com/', 'http://youssef-rabbaoui.de/', 'http://fonts4web.ru/', 'http://emoticonfun.org/', 'http://howtolamp.com/', 'https://peeseaw.blogspot.com/', 'http://psystems.gr/', 'http://senior-formation.com/', 'https://slovenskyviral.com/', 'http://findgiveaways.blogspot.com/', 'http://mobi-skidka.com/']\n"
     ]
    }
   ],
   "source": [
    "from selenium.webdriver.common.keys import Keys\n",
    "from urllib.parse import quote\n",
    "from bs4 import BeautifulSoup\n",
    "from selenium.webdriver.common.by import By\n",
    "\n",
    "url_list = []  \n",
    "chrome_options = Options()\n",
    "# chrome_options.add_argument(\"--headless\")  \n",
    "\n",
    "driver = webdriver.Chrome(options=chrome_options)\n",
    "\n",
    "# 打开publicwww.com登录页面\n",
    "driver.get('https://publicwww.com/profile/login.html')\n",
    "\n",
    "driver.implicitly_wait(5) \n",
    "\n",
    "username_input = driver.find_element(By.XPATH, '//*[@id=\"input01\"]')\n",
    "password_input = driver.find_element(By.XPATH, '//*[@id=\"input02\"]')\n",
    "username_input.send_keys('yuntian1215@sjtu.edu.cn') \n",
    "password_input.send_keys('2da515c7') \n",
    "\n",
    "# 提交表单，完成登录\n",
    "password_input.send_keys(Keys.RETURN)\n",
    "driver.implicitly_wait(5) \n",
    "\n",
    "def CreateSearchUrl(keyword):\n",
    "    # 构造搜索URL\n",
    "    quoted_keyword = '\"' + keyword + '\"'\n",
    "    encoded_keyword = quote(quoted_keyword, safe='') \n",
    "    search_url = f'https://publicwww.com/websites/{encoded_keyword}'\n",
    "    return search_url\n",
    "\n",
    "def GetURL(search_url):\n",
    "    search_url = str(search_url)\n",
    "    driver.get(search_url)\n",
    "    driver.implicitly_wait(10) \n",
    "\n",
    "    html = driver.page_source\n",
    "    soup = BeautifulSoup(html, 'html.parser')\n",
    "\n",
    "    # 提取搜索结果的URL\n",
    "    link_elements = soup.select('table tbody tr td a')\n",
    "    for link_element in link_elements:\n",
    "        url = link_element.get('href')\n",
    "        if url.startswith('http'):\n",
    "            url_list.append(url)\n",
    "\n",
    "# 获取num数量的URL\n",
    "def GetBadUrl(num):\n",
    "    keywords = KeyWordExtracting()\n",
    "\n",
    "    for keyword in keywords:\n",
    "        search_url = CreateSearchUrl(keyword)\n",
    "        print(search_url)\n",
    "        \n",
    "        GetURL(search_url)\n",
    "    \n",
    "        if len(url_list) > num:\n",
    "            break\n",
    "\n",
    "    for url in url_list:\n",
    "        print(url)\n",
    "   \n",
    "GetBadUrl(10)\n",
    "print(url_list)\n",
    "driver.quit()"
   ]
  },
  {
   "attachments": {},
   "cell_type": "markdown",
   "metadata": {},
   "source": [
    "OCR（图像识别文字功能）（Successfully passed）"
   ]
  },
  {
   "cell_type": "code",
   "execution_count": 9,
   "metadata": {},
   "outputs": [
    {
     "name": "stdout",
     "output_type": "stream",
     "text": [
      "colnhive'com/ 册 Dicolnnive Imlin.1sInew CoinHIVe AnonyIm ous\n",
      "Load jsecolin comjload\n",
      "\n",
      "(Cryptodoot com|cryptolootpre )Mib/minermin jsnew CryptoLoot Anonym ous\n",
      "new deep MinerAnonymous|deepMinerjs\n",
      "\n",
      "Webmine prolliblnew CRLT Anonymous\n",
      "\n",
      "wwwcoinimp comljscriptsmnew CoinImp Anonymous\n",
      "\n",
      "wwwceinpirate cflnew CoinPirate Anonymous\n",
      "\n",
      "ppoiorghib/projectpolmin jsInew ProjectPol .Anonymous\n",
      "\n",
      "\n"
     ]
    }
   ],
   "source": [
    "import pytesseract\n",
    "from PIL import Image\n",
    "\n",
    "pytesseract.pytesseract.tesseract_cmd = 'E:\\\\Sem_8\\\\Soft_Development\\\\Tesseract_OCR\\\\tesseract.exe'\n",
    "# 同一路径下命名为test的图片\n",
    "image = Image.open('test.png')\n",
    "text = pytesseract.image_to_string(image, lang='chi_sim')\n",
    "\n",
    "print(text)"
   ]
  }
 ],
 "metadata": {
  "kernelspec": {
   "display_name": "Python 3",
   "language": "python",
   "name": "python3"
  },
  "language_info": {
   "codemirror_mode": {
    "name": "ipython",
    "version": 3
   },
   "file_extension": ".py",
   "mimetype": "text/x-python",
   "name": "python",
   "nbconvert_exporter": "python",
   "pygments_lexer": "ipython3",
   "version": "3.7.9"
  },
  "orig_nbformat": 4
 },
 "nbformat": 4,
 "nbformat_minor": 2
}
